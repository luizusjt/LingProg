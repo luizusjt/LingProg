{
 "cells": [
  {
   "cell_type": "markdown",
   "metadata": {},
   "source": [
    "1 - Menor de dois pares: Escreva uma função que retorne o menor de dois números\n",
    "dados se ambos os números forem pares, mas retorna o maior se um dos dois for\n",
    "ímpar. Exemplo:"
   ]
  },
  {
   "cell_type": "code",
   "execution_count": 24,
   "metadata": {},
   "outputs": [
    {
     "data": {
      "text/plain": [
       "7"
      ]
     },
     "execution_count": 24,
     "metadata": {},
     "output_type": "execute_result"
    }
   ],
   "source": [
    "class Pares:\n",
    "    def __init__ (self, num):\n",
    "    \n",
    "        self.num = num\n",
    "    \n",
    "    def calcula_par (self):\n",
    "        if self.num[0] % 2 == 0 and self.num[1] % 2 == 0:\n",
    "            if self.num[0] > self.num [1]:\n",
    "                return self.num[1]\n",
    "            else:\n",
    "                return self.num[0]\n",
    "        \n",
    "        if self.num[0] % 2 != 0 or self.num[1] % 2 != 0:\n",
    "            if self.num[0] > self.num [1]:\n",
    "                return self.num[0]\n",
    "            else:\n",
    "                return self.num[1]\n",
    "    \n",
    "    "
   ]
  },
  {
   "cell_type": "markdown",
   "metadata": {},
   "source": [
    "2 - Mesma letra: Escreva uma função que receba uma string com duas palavras e retorne True se ambas palavras começarem com a mesma letra.\n",
    "\n",
    "Exemplo:\n",
    "mesma_letra('Cão covarde') -> True\n",
    "mesma_letra('Vira Lata') -> False"
   ]
  },
  {
   "cell_type": "code",
   "execution_count": 3,
   "metadata": {},
   "outputs": [],
   "source": [
    "def mesma_letra(string):\n",
    "    string1, string2 = string.split()\n",
    "    if string1[0].lower() == string2[0].lower():\n",
    "        return True\n",
    "    else:\n",
    "        return False"
   ]
  },
  {
   "cell_type": "markdown",
   "metadata": {},
   "source": [
    "3 - Mestre Yoda: Dada uma sentença, a função deve retornar a sentença com as palavras na ordem reversa.\n",
    "\n",
    "Exemplo:\n",
    "mestre_yoda('Eu estou em casa') --> 'casa em estou Eu'\n",
    "mestre_yoda('Estamos prontos') --> 'prontos Estamos'"
   ]
  },
  {
   "cell_type": "code",
   "execution_count": 27,
   "metadata": {},
   "outputs": [],
   "source": [
    "def mestre_yoda(string):\n",
    "    sentenças = string.split()\n",
    "    sentenças.reverse()\n",
    "    inverso = \"\"\n",
    "    for i in range(0, len(sentenças)):\n",
    "        sentenças[i] = sentenças[i] + \" \"\n",
    "    for sentença in sentenças:\n",
    "        inverso += sentença\n",
    "    return inverso"
   ]
  },
  {
   "cell_type": "markdown",
   "metadata": {},
   "source": [
    "4 - Tem 33: Faça uma função que retorne True se, dada uma lista de inteiros, houver em alguma posição da lista um 3 do lado de outro 3.\n",
    "\n",
    "Exemplo:\n",
    "tem_33([1,3,3]) --> True\n",
    "tem_33([1,3,1,3]) --> False\n",
    "tem_33([3,1,3]) --> False"
   ]
  },
  {
   "cell_type": "code",
   "execution_count": null,
   "metadata": {},
   "outputs": [],
   "source": [
    "def tem_33(lista):\n",
    "    for i in range(0, len(lista)):\n",
    "        if lista[i] == 3:\n",
    "            if i + 1 < len(lista):\n",
    "                if lista[i+1] == 3:\n",
    "                    return True\n",
    "    return False"
   ]
  },
  {
   "cell_type": "markdown",
   "metadata": {},
   "source": [
    "5 - Blackjack: Faça uma função que receba 3 inteiros entre 1 e 11. Se a soma deles for menor que 21, retorne o valor da soma. Se for mair do que 21 e houver um 11, subtraia 10 da soma antes de apresentar o resultado. Se o valor da soma passar de 21, retorne ‘ESTOUROU’.\n",
    "\n",
    "Exemplo:\n",
    "blackjack(5,6,7) --> 18\n",
    "blackjack(9,9,9) --> 'ESTOUROU'\n",
    "blackjack(9,9,11) --> 19"
   ]
  },
  {
   "cell_type": "code",
   "execution_count": null,
   "metadata": {},
   "outputs": [],
   "source": [
    "def blackjack(n1, n2, n3):\n",
    "    if (1 <= n1 <= 11) and (1 <= n2 <= 11) and (1 <= n3 <= 11):\n",
    "        if n1 + n2 + n3 <= 21:\n",
    "            return n1 + n2 + n3\n",
    "        else:\n",
    "            if n1 == 11 or n2 == 11 or n3 == 11:\n",
    "                return n1 + n2 + n3 - 10\n",
    "            else:\n",
    "                return \"ESTOUROU\"\n",
    "    else:\n",
    "        return \"Insira números em 1 e 11.\""
   ]
  },
  {
   "cell_type": "markdown",
   "metadata": {},
   "source": [
    "6 - Espião: Escreva uma função que receba uma lista de inteiros e retorne True se contém um 007 em ordem, mesmo que não contínuo.\n",
    "\n",
    "Exemplo:\n",
    "espiao([1,2,4,0,0,7,5]) --> True\n",
    "espiao([1,0,2,4,0,5,7]) --> True\n",
    "espiao([1,7,2,4,0,5,0]) --> False"
   ]
  },
  {
   "cell_type": "code",
   "execution_count": 31,
   "metadata": {},
   "outputs": [],
   "source": [
    "def espiao(lista):\n",
    "    for n1 in range(0, len(lista)):\n",
    "        if lista[n1] == 0:\n",
    "            n2 = n1 + 1\n",
    "            for n2 in range(n2, len(lista)):\n",
    "                if lista[n2] == 0:\n",
    "                    n3 = n2 + 1\n",
    "                    for n3 in range(n3, len(lista)):\n",
    "                        if lista[n3] == 7:\n",
    "                            return True\n",
    "    return False"
   ]
  },
  {
   "cell_type": "code",
   "execution_count": 30,
   "metadata": {},
   "outputs": [
    {
     "data": {
      "text/plain": [
       "True"
      ]
     },
     "execution_count": 30,
     "metadata": {},
     "output_type": "execute_result"
    }
   ],
   "source": []
  },
  {
   "cell_type": "code",
   "execution_count": null,
   "metadata": {},
   "outputs": [],
   "source": []
  }
 ],
 "metadata": {
  "kernelspec": {
   "display_name": "Python 3",
   "language": "python",
   "name": "python3"
  },
  "language_info": {
   "codemirror_mode": {
    "name": "ipython",
    "version": 3
   },
   "file_extension": ".py",
   "mimetype": "text/x-python",
   "name": "python",
   "nbconvert_exporter": "python",
   "pygments_lexer": "ipython3",
   "version": "3.7.1"
  }
 },
 "nbformat": 4,
 "nbformat_minor": 2
}
