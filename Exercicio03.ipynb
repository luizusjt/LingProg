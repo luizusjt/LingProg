{
 "cells": [
  {
   "cell_type": "markdown",
   "metadata": {},
   "source": [
    "Desvio Condicional"
   ]
  },
  {
   "cell_type": "markdown",
   "metadata": {},
   "source": [
    "1: Faça um Programa que peça dois números e imprima o maior deles."
   ]
  },
  {
   "cell_type": "code",
   "execution_count": null,
   "metadata": {},
   "outputs": [],
   "source": [
    "primeiro_numero = int(input('Insira um número: '))\n",
    "segundo_numero = int(input('Insira outro número: '))\n",
    "if primeiro_numero > segundo_numero:\n",
    "    print('O maior número é ', primeiro_numero)\n",
    "else:\n",
    "    print('O maior número é ', segundo_numero)"
   ]
  },
  {
   "cell_type": "markdown",
   "metadata": {},
   "source": [
    "2: Faça um Programa que verifique se uma letra digitada é vogal ou consoante."
   ]
  },
  {
   "cell_type": "code",
   "execution_count": null,
   "metadata": {},
   "outputs": [],
   "source": [
    "letra = input('Digite uma letra: ')\n",
    "\n",
    "lista_letra = ['a', 'e', 'i', 'o', 'u', 'A', 'E', 'I', 'O', 'U']\n",
    "if letra in lista_letra:\n",
    "    print(f'A letra {letra} é uma vogal.')\n",
    "else:\n",
    "    print(f'A letra {letra} é uma consoante.')"
   ]
  },
  {
   "cell_type": "markdown",
   "metadata": {},
   "source": [
    "3: Faça um programa para a leitura de duas notas parciais de um aluno. O programa\n",
    "deve calcular a média alcançada por aluno e apresentar:\n",
    "    - A mensagem \"Aprovado\", se a média alcançada for maior ou igual a sete;\n",
    "    - A mensagem \"Reprovado\", se a média for menor do que sete;\n",
    "    - A mensagem \"Aprovado com Distinção\", se a média for igual a dez."
   ]
  },
  {
   "cell_type": "code",
   "execution_count": null,
   "metadata": {
    "scrolled": true
   },
   "outputs": [],
   "source": [
    "primeira_nota = int(input('Insira a primeira nota: '))\n",
    "segunda_nota = int(input('Insira a segunda nota: '))\n",
    "media = (primeira_nota + segunda_nota) / 2\n",
    "if media == 10:\n",
    "    print('Aprovado com Distinção')\n",
    "elif media >= 7:\n",
    "    print('Aprovado')\n",
    "else:\n",
    "    print('Reprovado')"
   ]
  },
  {
   "cell_type": "markdown",
   "metadata": {},
   "source": [
    "4: Faça um Programa que leia três números e mostre-os em ordem decrescente."
   ]
  },
  {
   "cell_type": "code",
   "execution_count": null,
   "metadata": {},
   "outputs": [],
   "source": [
    "lista = []\n",
    "contador = 0\n",
    "while contador <= 2:\n",
    "    contador += 1\n",
    "    insira_elemento = int(input(\"Insira 1 elementos\"))\n",
    "    lista.append(insira_elemento)\n",
    "lista.sort()\n",
    "for n in reversed(lista):\n",
    "    print(n)"
   ]
  },
  {
   "cell_type": "markdown",
   "metadata": {},
   "source": [
    "5: As Organizações Tabajara resolveram dar um aumento de salário aos seus\n",
    "colaboradores e lhe contrataram para desenvolver o programa que calculará os\n",
    "reajustes.\n",
    "Faça um programa que recebe o salário de um colaborador e o reajuste segundo o\n",
    "seguinte critério, baseado no salário atual:\n",
    "    - salários até R$ 280,00 (incluindo) : aumento de 20%\n",
    "    - salários entre R$ 280,00 e R$ 700,00 : aumento de 15%\n",
    "    - salários entre R$ 700,00 e R$ 1500,00 : aumento de 10%\n",
    "    - salários de R$ 1500,00 em diante : aumento de 5%\n",
    "Após o aumento ser realizado, informe na tela:\n",
    "    - o salário antes do reajuste;\n",
    "    - o percentual de aumento aplicado;\n",
    "    - o valor do aumento;\n",
    "    - o novo salário, após o aumento."
   ]
  },
  {
   "cell_type": "code",
   "execution_count": null,
   "metadata": {},
   "outputs": [],
   "source": [
    "salario = int(input('Insira o salário: '))\n",
    "if salario <= 280:\n",
    "    percentual = 0.20\n",
    "elif salario > 280 and salario <= 700:\n",
    "    percentual = 0.15\n",
    "elif salario > 700 and salario <= 1500:\n",
    "    percentual = 0.10\n",
    "else:\n",
    "    percentual = 0.05\n",
    "novo_salario = salario + (salario * percentual)\n",
    "\n",
    "print('Salário antes do reajuste:', salario)\n",
    "print(f'Percentual de aumento aplicado: {percentual * 100}%')\n",
    "print('Valor do aumento:', salario * percentual)\n",
    "print('Novo salário:', novo_salario)\n"
   ]
  },
  {
   "cell_type": "markdown",
   "metadata": {},
   "source": [
    "6: Faça um Programa que leia um número e exiba o dia correspondente da semana.\n",
    "(1-Domingo, 2- Segunda, etc.), se digitar outro valor deve aparecer valor inválido."
   ]
  },
  {
   "cell_type": "code",
   "execution_count": null,
   "metadata": {},
   "outputs": [],
   "source": [
    "numero = int(input(\"Insira o número do dia: \"))\n",
    "if numero == 1:\n",
    "    print('Domingo')\n",
    "elif numero == 2:\n",
    "    print('Segunda')\n",
    "elif numero == 3:\n",
    "    print('Terca')\n",
    "elif numero == 4:\n",
    "    print('Quarta')\n",
    "elif numero == 5:\n",
    "    print('Quinta')\n",
    "elif numero == 6:\n",
    "    print('Sexta')\n",
    "elif numero == 7:\n",
    "    print('Sabado')\n",
    "else:\n",
    "    print('Insira um valor válido.')"
   ]
  },
  {
   "cell_type": "markdown",
   "metadata": {},
   "source": [
    "7: Faça um programa que lê as duas notas parciais obtidas por um aluno numa\n",
    "disciplina ao longo de um semestre, e calcule a sua média. A atribuição de conceitos\n",
    "obedece à tabela abaixo:\n",
    "    Média de Aproveitamento Conceito\n",
    "    Entre 9.0 e 10.0 A\n",
    "    Entre 7.5 e 9.0 B\n",
    "    Entre 6.0 e 7.5 C\n",
    "    Entre 4.0 e 6.0 D\n",
    "    Entre 4.0 e zero E\n",
    "O algoritmo deve mostrar na tela as notas, a média, o conceito correspondente e a\n",
    "mensagem “APROVADO” se o conceito for A, B ou C ou “REPROVADO” se o conceito\n",
    "for D ou E."
   ]
  },
  {
   "cell_type": "code",
   "execution_count": null,
   "metadata": {},
   "outputs": [],
   "source": [
    "primeira_nota = int(input('Insira a primeira nota: '))\n",
    "segunda_nota = int(input('Insira a segunda nota: '))\n",
    "media = (primeira_nota + segunda_nota) / 2\n",
    "if media >= 9 and media <= 10:\n",
    "    conceito = 'A'\n",
    "elif media >= 7.5 and media < 9:\n",
    "    conceito = 'B'\n",
    "elif media >= 6 and media < 7.5:\n",
    "    conceito = 'C'\n",
    "elif media >= 4 and media < 6:\n",
    "    conceito = 'D'\n",
    "elif media < 4:\n",
    "    conceito = 'E'\n",
    "print('Nota 1: ', primeira_nota)\n",
    "print('Nota 2: ', segunda_nota)\n",
    "print('Média: ', media)\n",
    "print('Conceito: ', conceito)\n",
    "if conceito == \"A\" or conceito == \"B\" or conceito == \"C\":\n",
    "    print(\"APROVADO\")\n",
    "else:\n",
    "    print(\"REPROVADO\")"
   ]
  },
  {
   "cell_type": "markdown",
   "metadata": {},
   "source": [
    "8: Faça um Programa que peça os 3 lados de um triângulo. O programa deverá\n",
    "informar se os valores podem ser um triângulo. Indique, caso os lados formem um\n",
    "triângulo, se o mesmo é: equilátero, isósceles ou escaleno.\n",
    "Dicas:\n",
    "    - Três lados formam um triângulo quando a soma de quaisquer dois lados for maior\n",
    "    que o terceiro;\n",
    "    - Triângulo Equilátero: três lados iguais;\n",
    "    - Triângulo Isósceles: quaisquer dois lados iguais;\n",
    "    - Triângulo Escaleno: três lados diferentes;"
   ]
  },
  {
   "cell_type": "code",
   "execution_count": null,
   "metadata": {},
   "outputs": [],
   "source": [
    "lado1 = int(input('Insira o primeiro lado: '))\n",
    "lado2 = int(input('Insira o segundo lado: '))\n",
    "lado3 = int(input('Insira o terceiro lado: '))\n",
    "\n",
    "if lado1 < lado2 + lado3 and lado2 < lado1 + lado3 and lado3 < lado1 + lado2:\n",
    "    print('É triangulo.')\n",
    "    if lado1 == lado2 == lado3:\n",
    "        print('Triângulo equilátero.')\n",
    "    elif lado1 == lado2 or lado1 == lado3 or lado2 == lado3:\n",
    "        print('Triângulo isósceles.')\n",
    "    else:\n",
    "        print('Triângulo escaleno.')\n",
    "else:\n",
    "    print('Não étriângulo.')"
   ]
  },
  {
   "cell_type": "markdown",
   "metadata": {},
   "source": [
    "9: Faça um programa que calcule as raízes de uma equação do segundo grau, na\n",
    "forma ax2 + bx + c. O programa deverá pedir os valores de a, b e c e fazer as\n",
    "consistências, informando ao usuário nas seguintes situações:\n",
    "    - Se o usuário informar o valor de A igual a zero, a equação não é do segundo grau e\n",
    "    o programa não deve fazer pedir os demais valores, sendo encerrado;\n",
    "    - Se o delta calculado for negativo, a equação não possui raizes reais. Informe ao\n",
    "    usuário e encerre o programa;\n",
    "    - Se o delta calculado for igual a zero a equação possui apenas uma raiz real;\n",
    "    informe-a ao usuário;\n",
    "    - Se o delta for positivo, a equação possui duas raiz reais; informe-as ao usuário;"
   ]
  },
  {
   "cell_type": "code",
   "execution_count": null,
   "metadata": {},
   "outputs": [],
   "source": [
    "a = int(input('Insira o A: '))\n",
    "if a == 0:\n",
    "    print(\"Não é uma equação de segundo grau.\")\n",
    "else:\n",
    "    b = float(input('Insira o B: '))\n",
    "    c = float(input('Insira o C: '))\n",
    "    delta = b**2 - 4*a*c\n",
    "    if delta < 0:\n",
    "        print(\"A equação não possui raizes reais\")\n",
    "    elif delta == 0:\n",
    "        x = -b / (2*a)\n",
    "        print(\"A equação possui apenas uma raiz real:\", x)\n",
    "    else:\n",
    "        x1 = (-b + math.sqrt(delta)) / (2*a)\n",
    "        x2 = (-b - math.sqrt(delta)) / (2*a)\n",
    "        print(f\"A equação possui duas raiz reais: {x1} e {x2}\")\n",
    "    "
   ]
  },
  {
   "cell_type": "markdown",
   "metadata": {},
   "source": [
    "10: Faça um Programa para um caixa eletrônico. O programa deverá perguntar ao\n",
    "usuário a valor do saque e depois informar quantas notas de cada valor serão\n",
    "fornecidas. As notas disponíveis serão as de 1, 5, 10, 50 e 100 reais. O valor mínimo é\n",
    "de 10 reais e o máximo de 600 reais. O programa não deve se preocupar com a\n",
    "quantidade de notas existentes na máquina.\n",
    "\n",
    "    - Exemplo 1: Para sacar a quantia de 256 reais, o programa fornece duas notas de\n",
    "100, uma nota de 50, uma nota de 5 e uma nota de 1;\n",
    "    - Exemplo 2: Para sacar a quantia de 399 reais, o programa fornece três notas de\n",
    "100, uma nota de 50, quatro notas de 10, uma nota de 5 e quatro notas de 1."
   ]
  },
  {
   "cell_type": "code",
   "execution_count": null,
   "metadata": {},
   "outputs": [],
   "source": [
    "saque = int(input(\"Informe o valor do saque: \"))\n",
    "if saque >= 10 and saque <= 600:\n",
    "    nota100 = saque // 100\n",
    "    resto = saque % 100\n",
    "    print(f'{nota100} notas de 100 reais;')\n",
    "    nota50 = resto // 50\n",
    "    resto = resto % 50\n",
    "    print(f'{nota50} notas de 50 reais;')\n",
    "    nota10 = resto // 10\n",
    "    resto = resto % 10\n",
    "    print(f'{nota10} notas de 10 reais;')\n",
    "    nota5 = resto // 5\n",
    "    resto = resto % 5\n",
    "    print(f'{nota5} notas de 5 reais;')\n",
    "    print(f'{resto} notas de 1 real.')\n",
    "else:\n",
    "    print(\"Valor invalido.\")"
   ]
  },
  {
   "cell_type": "markdown",
   "metadata": {},
   "source": [
    "11: Faça um programa que faça 5 perguntas para uma pessoa sobre um crime. As\n",
    "perguntas são:\n",
    "    \"Telefonou para a vítima?\"\n",
    "    \"Esteve no local do crime?\"\n",
    "    \"Mora perto da vítima?\"\n",
    "    \"Devia para a vítima?\"\n",
    "    \"Já trabalhou com a vítima?\"\n",
    "O programa deve no final emitir uma classificação sobre a participação da pessoa no\n",
    "crime. Se a pessoa responder positivamente a 2 questões ela deve ser classificada\n",
    "como \"Suspeita\", entre 3 e 4 como \"Cúmplice\" e 5 como \"Assassino\". Caso contrário,\n",
    "ele será classificado como \"Inocente\"."
   ]
  },
  {
   "cell_type": "code",
   "execution_count": null,
   "metadata": {},
   "outputs": [],
   "source": [
    "contador = 0\n",
    "respostas = [\n",
    "    input(\"Telefonou para a vítima? (s/n): \"),\n",
    "    input(\"Esteve no local do crime? (s/n): \"),\n",
    "    input(\"Mora perto da vítima? (s/n): \"),\n",
    "    input(\"Devia para a vítima? (s/n): \"),\n",
    "    input(\"Já trabalhou com a vítima? (s/n): \")\n",
    "]\n",
    "\n",
    "for resposta in respostas:\n",
    "    if resposta == \"s\":\n",
    "        contador += 1\n",
    "        \n",
    "if contador == 2:\n",
    "    print(\"Suspeita\")\n",
    "elif contador >= 3 and contador <= 4:\n",
    "    print(\"Cúmplice\")\n",
    "elif contador == 5:\n",
    "    print(\"Assassino\")\n",
    "else:\n",
    "    print(\"Inocente\")"
   ]
  },
  {
   "cell_type": "markdown",
   "metadata": {},
   "source": [
    "12: Uma fruteira está vendendo frutas com a seguinte tabela de preços:\n",
    "Até 5 Kg Acima de 5 Kg\n",
    "Morango R$ 2,50 por Kg R$ 2,20 por Kg\n",
    "Maçã R$ 1,80 por Kg R$ 1,50 por Kg\n",
    "Se o cliente comprar mais de 8 Kg em frutas ou o valor total da compra ultrapassar\n",
    "R$ 25,00, receberá ainda um desconto de 10% sobre este total. Escreva um\n",
    "algoritmo para ler a quantidade (em Kg) de morangos e a quantidade (em Kg) de\n",
    "maças adquiridas e escreva o valor a ser pago pelo cliente."
   ]
  },
  {
   "cell_type": "code",
   "execution_count": null,
   "metadata": {},
   "outputs": [],
   "source": [
    "preco = 0\n",
    "kilo_morango = int(input(\"Insira a quantidade em kg de morangos: \"))\n",
    "kilo_maca = int(input(\"Insira a quantidade em kg de maçãs: \"))\n",
    "\n",
    "if kilo_morango < 5:\n",
    "    preco += kilo_morango * 2.50\n",
    "else:\n",
    "    preco += kilo_morango * 2.20\n",
    "    \n",
    "if kilo_maca < 5:\n",
    "    preco += kilo_maca * 1.80\n",
    "else:\n",
    "    preco += kilo_maca * 1.50\n",
    "    \n",
    "if preco > 25.00:\n",
    "    preco *= 0.90\n",
    "\n",
    "print('Valor a ser pago: ', preco)"
   ]
  },
  {
   "cell_type": "markdown",
   "metadata": {},
   "source": [
    "13: Faça um programa que peça uma nota, entre zero e dez. Mostre uma mensagem\n",
    "caso o valor seja inválido e continue pedindo até que o usuário informe um valor\n",
    "válido."
   ]
  },
  {
   "cell_type": "code",
   "execution_count": null,
   "metadata": {},
   "outputs": [],
   "source": [
    "num = int(input(\"Insira uma nora entre zero e dez: \"))\n",
    "while num < 0 or num > 10:\n",
    "    print(\"Valor inválido.\")\n",
    "    num = int(input(\"Insira uma nora entre zero e dez: \"))\n",
    "else:\n",
    "    print(\"Valor válido.\")"
   ]
  },
  {
   "cell_type": "markdown",
   "metadata": {},
   "source": [
    "14: Faça um programa que leia e valide as seguintes informações:\n",
    "\n",
    "    Nome: maior que 3 caracteres;    \n",
    "    Idade: entre 0 e 150;    \n",
    "    Salário: maior que zero;    \n",
    "    Sexo: 'f' ou 'm';    \n",
    "    Estado Civil: 's', 'c', 'v', 'd';"
   ]
  },
  {
   "cell_type": "code",
   "execution_count": null,
   "metadata": {},
   "outputs": [],
   "source": [
    "nome = input(\"Insira o nome maior que três caracteres: \")\n",
    "while len(nome) <= 3:\n",
    "    nome = input(\"Insira o nome maior que três caracteres: \")\n",
    "    \n",
    "idade = int(input(\"Insira a idade entre 0 e 150 anos: \"))\n",
    "while idade < 0 or idade > 150:\n",
    "    idade = int(input(\"Insira a idade entre 0 e 150 anos\"))\n",
    "    \n",
    "salario = int(input(\"Insira o salário (maior que zero): \"))\n",
    "while salario <= 0:\n",
    "    salario = int(input(\"Insira o salário (maior que zero): \"))\n",
    "    \n",
    "sexo = input(\"Insira o sexo (f/m): \")\n",
    "while not (sexo in ['f', 'm']):\n",
    "    sexo = input(\"Insira o sexo (f/m): \")\n",
    "    \n",
    "estadocivil = input(\"Insira o estado civil (s/c/v/d): \")\n",
    "while not (estadocivil in ['s', 'c', 'v', 'd']):\n",
    "    estadocivil = input(\"Insira o estado civil (s/c/v/d): \")"
   ]
  },
  {
   "cell_type": "markdown",
   "metadata": {},
   "source": [
    "15: Faça um programa que leia 5 números e informe o maior número."
   ]
  },
  {
   "cell_type": "code",
   "execution_count": 7,
   "metadata": {},
   "outputs": [
    {
     "name": "stdout",
     "output_type": "stream",
     "text": [
      "Digite o um numero número: 3\n",
      "Digite o um numero número: 7\n",
      "Digite o um numero número: 3\n",
      "Digite o um numero número: 8\n",
      "Digite o um numero número: 2\n",
      "O maior valor é: 8\n"
     ]
    }
   ],
   "source": [
    "contador = 0\n",
    "lista = []\n",
    "\n",
    "while contador < 5:\n",
    "    contador += 1\n",
    "    maior = int(input(\"Digite o um numero número: \"))\n",
    "    lista.append(maior)\n",
    "    \n",
    "print(f'O maior valor é: {max(lista)}')"
   ]
  },
  {
   "cell_type": "markdown",
   "metadata": {},
   "source": [
    "16: Faça um programa que leia 5 números e informe a soma e a média dos números."
   ]
  },
  {
   "cell_type": "code",
   "execution_count": 9,
   "metadata": {},
   "outputs": [
    {
     "name": "stdout",
     "output_type": "stream",
     "text": [
      "Digite o um numero número: 5\n",
      "Digite o um numero número: 5\n",
      "Digite o um numero número: 5\n",
      "Digite o um numero número: 5\n",
      "Digite o um numero número: 5\n",
      "A soma dos número é: 25\n",
      "A média dos números é 5.0\n"
     ]
    }
   ],
   "source": [
    "contador = 0\n",
    "lista = []\n",
    "soma = 0\n",
    "while contador < 5:\n",
    "    contador += 1\n",
    "    numero = int(input(\"Digite o um numero número: \"))\n",
    "    lista.append(numero)\n",
    "\n",
    "soma = sum(lista)\n",
    "\n",
    "print(f'A soma dos número é: {soma}')\n",
    "print(f'A média dos números é {soma / 5}')\n",
    "    "
   ]
  },
  {
   "cell_type": "markdown",
   "metadata": {},
   "source": [
    "17: Faça um programa que imprima na tela apenas os números ímpares entre 1 e 50."
   ]
  },
  {
   "cell_type": "code",
   "execution_count": null,
   "metadata": {},
   "outputs": [],
   "source": [
    "for num in range(1, 51):\n",
    "    if num % 2 != 0:\n",
    "        print(num)"
   ]
  },
  {
   "cell_type": "markdown",
   "metadata": {},
   "source": [
    "18: Desenvolva um gerador de tabuada, capaz de gerar a tabuada de qualquer\n",
    "número inteiro entre 1 a 10. O usuário deve informar de qual numero ele deseja ver\n",
    "a tabuada. A saída deve ser conforme o exemplo abaixo:\n",
    "Tabuada de 5:\n",
    "    \n",
    "    5 X 1 = 5    \n",
    "    5 X 2 = 10    \n",
    "    ...     \n",
    "    5 X 10 = 50 "
   ]
  },
  {
   "cell_type": "code",
   "execution_count": 15,
   "metadata": {},
   "outputs": [
    {
     "name": "stdout",
     "output_type": "stream",
     "text": [
      "Insira o número da tabuada: 2\n",
      "2 X 1 = 2\n",
      "2 X 2 = 4\n",
      "2 X 3 = 6\n",
      "2 X 4 = 8\n",
      "2 X 5 = 10\n",
      "2 X 6 = 12\n",
      "2 X 7 = 14\n",
      "2 X 8 = 16\n",
      "2 X 9 = 18\n",
      "2 X 10 = 20\n"
     ]
    }
   ],
   "source": [
    "tabuada = int(input(\"Insira o número da tabuada: \"))\n",
    "for num in range(1, 11):\n",
    "    resposta = num*tabuada\n",
    "    print(f\"{tabuada} X {num} = {resposta}\")"
   ]
  },
  {
   "cell_type": "markdown",
   "metadata": {},
   "source": [
    "19: A série de Fibonacci é formada pela seqüência 1,1,2,3,5,8,13,21,34,55,... Faça um\n",
    "programa capaz de gerar a série até o n−ésimo termo."
   ]
  },
  {
   "cell_type": "code",
   "execution_count": null,
   "metadata": {},
   "outputs": [],
   "source": [
    "a = 0\n",
    "b = 1\n",
    "nesimo = int(input(\"Até qual termo? \"))\n",
    "for i in range(nesimo):\n",
    "    print(a)\n",
    "    aux = b\n",
    "    b = a + b\n",
    "    a = aux"
   ]
  },
  {
   "cell_type": "markdown",
   "metadata": {},
   "source": [
    "20: Faça um programa que calcule o fatorial de um número inteiro fornecido pelo\n",
    "usuário. Ex.: 5!=5.4.3.2.1=120"
   ]
  },
  {
   "cell_type": "code",
   "execution_count": 19,
   "metadata": {},
   "outputs": [
    {
     "name": "stdout",
     "output_type": "stream",
     "text": [
      "Fatorial de: 4\n",
      "O fatorial é: 24\n"
     ]
    }
   ],
   "source": [
    "calc_fat = int(input(\"Fatorial de: \"))\n",
    "for i in range(1, calc_fat):\n",
    "    calc_fat = calc_fat * i\n",
    "print(f'O fatorial é: {calc_fat}')"
   ]
  },
  {
   "cell_type": "markdown",
   "metadata": {},
   "source": [
    "21: O Sr. Manoel Joaquim possui uma grande loja de artigos de RS 1,99, com cerca\n",
    "de 10 caixas. Para agilizar o cálculo de quanto cada cliente deve pagar ele\n",
    "desenvolveu um tabela que contém o número de itens que o cliente comprou e ao\n",
    "lado o valor da conta. Desta forma a atendente do caixa precisa apenas contar\n",
    "quantos itens o cliente está levando e olhar na tabela de preços. Você foi contratado\n",
    "para desenvolver o programa que monta esta tabela de preços, que conterá os\n",
    "preços de 1 até 50 produtos, conforme o exemplo abaixo:\n",
    "\n",
    "Lojas Quase Dois - Tabela de preços\n",
    "\n",
    "    1 - RS 1.99    \n",
    "    2 - RS 3.98    \n",
    "    ...\n",
    "    50 - RS 99.50\n",
    "    "
   ]
  },
  {
   "cell_type": "code",
   "execution_count": null,
   "metadata": {},
   "outputs": [],
   "source": [
    "for num in range(1, 51):\n",
    "    preco = num * 1.99\n",
    "    print(f\"{num} - R$ {preco}\")"
   ]
  },
  {
   "cell_type": "markdown",
   "metadata": {},
   "source": [
    "22: O Sr. Manoel Joaquim acaba de adquirir uma panificadora e pretende implantar\n",
    "a metodologia da tabelinha, que já é um sucesso na sua loja de 1,99. Você foi\n",
    "contratado para desenvolver o programa que monta a tabela de preços de pães, de\n",
    "1 até 50 pães, a partir do preço do pão informado pelo usuário, conforme o exemplo\n",
    "abaixo:\n",
    "\n",
    "    Preço do pão: RS 0.18    \n",
    "    Panificadora Pão de Ontem - Tabela de preços    \n",
    "    1 - RS 0.18    \n",
    "    2 - RS 0.36    \n",
    "    ...    \n",
    "    50 - RS 9.00    "
   ]
  },
  {
   "cell_type": "code",
   "execution_count": 21,
   "metadata": {},
   "outputs": [
    {
     "name": "stdout",
     "output_type": "stream",
     "text": [
      "Insira o preço do pão: 2\n",
      "1 - R$ 2.00\n",
      "1 - RS 2.2f\n",
      "2 - R$ 4.00\n",
      "2 - RS 4.2f\n",
      "3 - R$ 6.00\n",
      "3 - RS 6.2f\n",
      "4 - R$ 8.00\n",
      "4 - RS 8.2f\n",
      "5 - R$ 10.00\n",
      "5 - RS 10.2f\n",
      "6 - R$ 12.00\n",
      "6 - RS 12.2f\n",
      "7 - R$ 14.00\n",
      "7 - RS 14.2f\n",
      "8 - R$ 16.00\n",
      "8 - RS 16.2f\n",
      "9 - R$ 18.00\n",
      "9 - RS 18.2f\n",
      "10 - R$ 20.00\n",
      "10 - RS 20.2f\n",
      "11 - R$ 22.00\n",
      "11 - RS 22.2f\n",
      "12 - R$ 24.00\n",
      "12 - RS 24.2f\n",
      "13 - R$ 26.00\n",
      "13 - RS 26.2f\n",
      "14 - R$ 28.00\n",
      "14 - RS 28.2f\n",
      "15 - R$ 30.00\n",
      "15 - RS 30.2f\n",
      "16 - R$ 32.00\n",
      "16 - RS 32.2f\n",
      "17 - R$ 34.00\n",
      "17 - RS 34.2f\n",
      "18 - R$ 36.00\n",
      "18 - RS 36.2f\n",
      "19 - R$ 38.00\n",
      "19 - RS 38.2f\n",
      "20 - R$ 40.00\n",
      "20 - RS 40.2f\n",
      "21 - R$ 42.00\n",
      "21 - RS 42.2f\n",
      "22 - R$ 44.00\n",
      "22 - RS 44.2f\n",
      "23 - R$ 46.00\n",
      "23 - RS 46.2f\n",
      "24 - R$ 48.00\n",
      "24 - RS 48.2f\n",
      "25 - R$ 50.00\n",
      "25 - RS 50.2f\n",
      "26 - R$ 52.00\n",
      "26 - RS 52.2f\n",
      "27 - R$ 54.00\n",
      "27 - RS 54.2f\n",
      "28 - R$ 56.00\n",
      "28 - RS 56.2f\n",
      "29 - R$ 58.00\n",
      "29 - RS 58.2f\n",
      "30 - R$ 60.00\n",
      "30 - RS 60.2f\n",
      "31 - R$ 62.00\n",
      "31 - RS 62.2f\n",
      "32 - R$ 64.00\n",
      "32 - RS 64.2f\n",
      "33 - R$ 66.00\n",
      "33 - RS 66.2f\n",
      "34 - R$ 68.00\n",
      "34 - RS 68.2f\n",
      "35 - R$ 70.00\n",
      "35 - RS 70.2f\n",
      "36 - R$ 72.00\n",
      "36 - RS 72.2f\n",
      "37 - R$ 74.00\n",
      "37 - RS 74.2f\n",
      "38 - R$ 76.00\n",
      "38 - RS 76.2f\n",
      "39 - R$ 78.00\n",
      "39 - RS 78.2f\n",
      "40 - R$ 80.00\n",
      "40 - RS 80.2f\n",
      "41 - R$ 82.00\n",
      "41 - RS 82.2f\n",
      "42 - R$ 84.00\n",
      "42 - RS 84.2f\n",
      "43 - R$ 86.00\n",
      "43 - RS 86.2f\n",
      "44 - R$ 88.00\n",
      "44 - RS 88.2f\n",
      "45 - R$ 90.00\n",
      "45 - RS 90.2f\n",
      "46 - R$ 92.00\n",
      "46 - RS 92.2f\n",
      "47 - R$ 94.00\n",
      "47 - RS 94.2f\n",
      "48 - R$ 96.00\n",
      "48 - RS 96.2f\n",
      "49 - R$ 98.00\n",
      "49 - RS 98.2f\n",
      "50 - R$ 100.00\n",
      "50 - RS 100.2f\n"
     ]
    }
   ],
   "source": [
    "preco = int(input(\"Insira o preço do pão: \"))\n",
    "for num in range(1, 51):\n",
    "    total = num * preco\n",
    "    print(\"%s - R$ %.2f\" % (num, total))"
   ]
  },
  {
   "cell_type": "markdown",
   "metadata": {},
   "source": [
    "23: O Sr. Manoel Joaquim expandiu seus negócios para além dos negócios de 1,99 e agora possui uma loja de conveniências. Faça um programa que implemente uma caixa registradora rudimentar. O programa deverá receber um número desconhecido de valores referentes aos preços das mercadorias. Um valor zero deve ser informado pelo operador para indicar o final da compra. O programa deve então mostrar o total da compra e perguntar o valor em dinheiro que o cliente forneceu, para então calcular e mostrar o valor do troco. Após esta operação, o programa deverá voltar ao ponto inicial, para registrar a próxima compra. A saída deve ser conforme o exemplo abaixo:\n",
    "\n",
    "       Lojas Tabajara\n",
    "        Produto 1: RS 2.20\n",
    "        Produto 2: RS 5.80\n",
    "        Produto 3: RS 0\n",
    "        Total: RS 9.00\n",
    "        Dinheiro: RS 20.00\n",
    "        Troco: RS 11.00\n",
    "        ..."
   ]
  },
  {
   "cell_type": "code",
   "execution_count": null,
   "metadata": {
    "scrolled": false
   },
   "outputs": [],
   "source": [
    "total = 0\n",
    "preco = -1\n",
    "i = 0\n",
    "while preco != 0:\n",
    "    preco = int(input(\"Insira o preço do item (Digite '0' para finalizar a compra): \"))\n",
    "    total += preco\n",
    "    i += 1\n",
    "    if preco == 0:\n",
    "        print(f\"Total: R$ {total}\")\n",
    "        pago = int(input(\"Insira o valor a ser pago: \"))\n",
    "        print(\"Troco: R$ \", pago - total)\n",
    "    else:\n",
    "        print(f\"Produto {i}: R$ {preco}\")"
   ]
  },
  {
   "cell_type": "markdown",
   "metadata": {},
   "source": [
    "24 Foi feita uma estatística em cinco cidades brasileiras para coletar dados sobre\n",
    "acidentes de trânsito. Foram obtidos os seguintes dados:\n",
    "    \n",
    "    - Código da cidade;\n",
    "    - Número de veículos de passeio (em 1999);\n",
    "    - Número de acidentes de trânsito com vítimas (em 1999). Deseja-se saber:\n",
    "    - Qual o maior e menor índice de acidentes de transito e a que cidade pertence;\n",
    "    - Qual a média de veículos nas cinco cidades juntas;\n",
    "    - Qual a média de acidentes de trânsito nas cidades com menos de 2.000 veículos de\n",
    "    passeio."
   ]
  },
  {
   "cell_type": "code",
   "execution_count": 29,
   "metadata": {},
   "outputs": [
    {
     "name": "stdout",
     "output_type": "stream",
     "text": [
      "Média de veículos nas cinco cidades juntas:  5471.6\n",
      "Média de acidentes de trânsito nas cidades com menos de 2.000 veículos de passeio:  2.5\n"
     ]
    }
   ],
   "source": [
    "cidades = {\n",
    "    \n",
    "    \"cidade0\": [6753, 12],\n",
    "    \"cidade1\": [7503, 23],\n",
    "    \"cidade2\": [607, 3],\n",
    "    \"cidade3\": [450, 2],\n",
    "    \"cidade4\": [12045, 47]\n",
    "}\n",
    "\n",
    "soma_veiculos = 0\n",
    "soma_acidentes = 0\n",
    "cont_cidades = 0\n",
    "for cod in cidades:\n",
    "    soma_veiculos += cidades[cod][0]\n",
    "    if cidades[cod][0] < 2000:\n",
    "        soma_acidentes += cidades[cod][1]\n",
    "        cont_cidades += 1\n",
    "    if cidades[cod][1] > maior_indice[0]:\n",
    "        maior_indice[0] = cidades[cod][1]\n",
    "        maior_indice[1] = cod\n",
    "    if cidades[cod][1] < menor_indice[0]:\n",
    "        menor_indice[0] = cidades[cod][1]\n",
    "        menor_indice[1] = cod\n",
    "        \n",
    "    \n",
    "media_veiculos = soma_veiculos / len(cidades.keys())\n",
    "media_acidentes = soma_acidentes / cont_cidades\n",
    "print(\"Média de veículos nas cinco cidades juntas: \", media_veiculos)\n",
    "print(\"Média de acidentes de trânsito nas cidades com menos de 2.000 veículos de passeio: \", media_acidentes)"
   ]
  },
  {
   "cell_type": "markdown",
   "metadata": {},
   "source": [
    "25 Faça um programa que receba o valor de uma dívida e mostre uma tabela com\n",
    "os seguintes dados: valor da dívida, valor dos juros, quantidade de parcelas e valor\n",
    "da parcela.\n",
    "Os juros e a quantidade de parcelas seguem a tabela abaixo:\n",
    "Quantidade de Parcelas % de Juros sobre o valor inicial da dívida\n",
    "\n",
    "    1 0\n",
    "    3 10\n",
    "    6 15\n",
    "    9 20\n",
    "    12 25\n",
    "    \n",
    "Exemplo de saída do programa:\n",
    "\n",
    "    Valor da Dívida Valor dos Juros Quantidade de Parcelas Valor da Parcela\n",
    "    RS 1.000,00 0 1 RS 1.000,00\n",
    "    RS 1.100,00 100 3 RS 366,00\n",
    "    RS 1.150,00 150 6 RS 191,67"
   ]
  },
  {
   "cell_type": "code",
   "execution_count": 33,
   "metadata": {},
   "outputs": [
    {
     "name": "stdout",
     "output_type": "stream",
     "text": [
      "Insira o valor da dívida: 123\n",
      "Dívida \t Valor Juros \t Qtde Parcelas \t Valor da Parcela\n",
      "R$ 123.0 \t 0.0 \t 1 \t R$ 123.00\n",
      "R$ 135.3 \t 12.3 \t 3 \t R$ 45.10\n",
      "R$ 141.45 \t 18.45 \t 6 \t R$ 23.57\n",
      "R$ 147.6 \t 24.6 \t 9 \t R$ 16.40\n",
      "R$ 153.75 \t 30.75 \t 12 \t R$ 12.81\n"
     ]
    }
   ],
   "source": [
    "divida_inicial = int(input(\"Insira o valor da dívida: \"))\n",
    "print(\"Dívida \\t Valor Juros \\t Qtde Parcelas \\t Valor da Parcela\")\n",
    "for i in range(0, 5):\n",
    "    if i == 0:\n",
    "        juros = 0\n",
    "    elif i == 1:\n",
    "        juros = 10\n",
    "    else:\n",
    "        juros += 5\n",
    "    valor_juros = divida_inicial * (juros / 100)\n",
    "    divida = divida_inicial + valor_juros\n",
    "    if i == 0:\n",
    "        qtde_parc = 1\n",
    "    else:\n",
    "        qtde_parc = i * 3\n",
    "    if qtde_parc != 0:\n",
    "        valor_parcela = divida / qtde_parc\n",
    "    else:\n",
    "        valor_parcela = divida\n",
    "    print(f\"R$ {divida} \\t {valor_juros} \\t {qtde_parc} \\t R$ %.2f\"%(valor_parcela))"
   ]
  },
  {
   "cell_type": "markdown",
   "metadata": {},
   "source": [
    "26 Faça um programa que mostre os n termos da Série a seguir:\n",
    "\n",
    "    S = 1/1 + 2/3 + 3/5 + 4/7 + 5/9 + ... + n/m.\n",
    "    \n",
    "Imprima no final a soma da série."
   ]
  },
  {
   "cell_type": "code",
   "execution_count": 34,
   "metadata": {},
   "outputs": [
    {
     "name": "stdout",
     "output_type": "stream",
     "text": [
      "Insira a quantidade de termos desejada: 23\n",
      "S = 1/1 + 2/3 + 3/5 + 4/7 + 5/9 + 6/11 + 7/13 + 8/15 + 9/17 + 10/19 + 11/21 + 12/23 + 13/25 + 14/27 + 15/29 + 16/31 + 17/33 + 18/35 + 19/37 + 20/39 + 21/41 + 22/43 + 23/45\n",
      "Soma da série: 12.77477074522134\n"
     ]
    }
   ],
   "source": [
    "termo = int(input('Insira a quantidade de termos desejada: '))\n",
    "\n",
    "soma_str = \"S = \"\n",
    "s = 0\n",
    "m = 1\n",
    "for n in range(1, termo + 1):\n",
    "    s += n / m\n",
    "    soma_str += str(n) + \"/\" + str(m)\n",
    "    if n != termo:\n",
    "        soma_str += \" + \"\n",
    "    m += 2\n",
    "\n",
    "print(soma_str)\n",
    "print('Soma da série: %s' % s)"
   ]
  },
  {
   "cell_type": "code",
   "execution_count": null,
   "metadata": {},
   "outputs": [],
   "source": []
  }
 ],
 "metadata": {
  "kernelspec": {
   "display_name": "Python 3",
   "language": "python",
   "name": "python3"
  },
  "language_info": {
   "codemirror_mode": {
    "name": "ipython",
    "version": 3
   },
   "file_extension": ".py",
   "mimetype": "text/x-python",
   "name": "python",
   "nbconvert_exporter": "python",
   "pygments_lexer": "ipython3",
   "version": "3.7.1"
  }
 },
 "nbformat": 4,
 "nbformat_minor": 2
}
