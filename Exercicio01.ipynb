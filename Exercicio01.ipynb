{
 "cells": [
  {
   "cell_type": "markdown",
   "metadata": {},
   "source": [
    "1 Faça um Programa que peça o raio de um círculo, calcule e mostre sua área"
   ]
  },
  {
   "cell_type": "code",
   "execution_count": null,
   "metadata": {},
   "outputs": [],
   "source": [
    "import math\n",
    "raio = int(input (\"Digite o raio\"))\n",
    "#type (raio)\n",
    "area = math.pi * (raio ** 2)\n",
    "print (f'A área do círculo de raio {raio} é {area:{5}.{2}}')"
   ]
  },
  {
   "cell_type": "markdown",
   "metadata": {},
   "source": [
    "2 Faça um Programa que calcule a área de um quadrado, em seguida mostre o dobro\n",
    "desta área para o usuário."
   ]
  },
  {
   "cell_type": "code",
   "execution_count": null,
   "metadata": {},
   "outputs": [],
   "source": [
    "base = int(input(\"Digite a base\\t\"))\n",
    "altura = int(input(\"Digita a altura\\t\"))\n",
    "\n",
    "area = base * altura\n",
    "\n",
    "print ('A área do quadrado é {}'.format(area))"
   ]
  },
  {
   "cell_type": "markdown",
   "metadata": {},
   "source": [
    "3 Faça um Programa que pergunte quanto você ganha por hora e o número de horas\n",
    "trabalhadas no mês. Calcule e mostre o total do seu salário no referido mês."
   ]
  },
  {
   "cell_type": "code",
   "execution_count": null,
   "metadata": {},
   "outputs": [],
   "source": [
    "valor_hora = float (input (\"Digite o valor da hora\\t\"))\n",
    "numero_horas = float (input (\"Digite a quantidade de horas trabalhadas\\t\"))\n",
    "total = valor_hora * numero_horas\n",
    "print ('Com valor de hora %.2f e tendo trabalhado %.2f horas, você ganhará %.2f' % (valor_hora, numero_horas, total))"
   ]
  },
  {
   "cell_type": "markdown",
   "metadata": {},
   "source": [
    "4 Faça um Programa que peça a temperatura em graus Farenheit, transforme e\n",
    "mostre a temperatura em graus Celsius. C = (5 * (F-32) / 9)."
   ]
  },
  {
   "cell_type": "code",
   "execution_count": null,
   "metadata": {},
   "outputs": [],
   "source": [
    "temperatura = int(input(\"informe a temperatura em graus Farenheit\\n\"))\n",
    "calculo_celsius = (5*(temperatura-32)/9)\n",
    "\n",
    "print(\"A temperatura em graus Celsius é {0:4.1f}\".format(calculo_celsius))"
   ]
  },
  {
   "cell_type": "markdown",
   "metadata": {},
   "source": [
    "5 Faça um Programa que peça a temperatura em graus Celsius, transforme e mostre\n",
    "em graus Farenheit."
   ]
  },
  {
   "cell_type": "code",
   "execution_count": null,
   "metadata": {},
   "outputs": [],
   "source": [
    "temperatura = int(input(\"informe a temperatura em graus Celsius\\n\"))\n",
    "calculo_farenheit = (temperatura *1.8+32)\n",
    "\n",
    "print(\"A temperatura em graus Farenheit é {0:4.1f}\".format(calculo_farenheit))"
   ]
  },
  {
   "cell_type": "markdown",
   "metadata": {},
   "source": [
    "6 Faça um Programa que peça 2 números inteiros e um número real. Calcule e\n",
    "mostre:\n",
    "- o produto do dobro do primeiro com metade do segundo .\n",
    "- a soma do triplo do primeiro com o terceiro.\n",
    "- o terceiro elevado ao cubo."
   ]
  },
  {
   "cell_type": "code",
   "execution_count": null,
   "metadata": {},
   "outputs": [],
   "source": [
    "primeiro_inteiro = int(input(\"Informe o primeiro inteiro\\n\"))\n",
    "segundo_inteiro = int(input(\"Informe o segundo inteiro\\n\"))\n",
    "terceiro_real = float(input(\"Informe o número real\\n\"))\n",
    "\n",
    "primeiro_resultado = (primeiro_inteiro * 2) * (segundo_inteiro / 2)\n",
    "segundo_resultado = (primeiro_inteiro * 3) + terceiro_real\n",
    "terceiro_resultado = (terceiro_real ** 3)\n",
    "\n",
    "print(\"O primeiro resultado é {}, o segundo é resultado é {} e o terceiro resultado é {} \"\n",
    "      .format(primeiro_resultado, segundo_resultado, terceiro_resultado))\n",
    "                                                                        "
   ]
  },
  {
   "cell_type": "markdown",
   "metadata": {},
   "source": [
    "7 João Papo-de-Pescador, homem de bem, comprou um microcomputador para controlar o rendimento diário de seu trabalho. Toda vez que ele traz um peso de peixes maior que o estabelecido pelo regulamento de pesca do estado de São Paulo (50 quilos) deve pagar uma multa de R$ 4,00 por quilo excedente. João precisa que\n",
    "você faça um programa que leia a variável peso (peso de peixes) e verifique se há excesso. Se houver, gravar na variável excesso e na variável multa o valor da multa que João deverá pagar. Caso contrário mostrar tais variáveis com o conteúdo ZERO."
   ]
  },
  {
   "cell_type": "code",
   "execution_count": null,
   "metadata": {},
   "outputs": [],
   "source": [
    "peso_peixes = float (input (\"Digite o peso de peixes\"))\n",
    "excesso = 0\n",
    "multa = 0\n",
    "if peso_peixes > 50:\n",
    "    excesso = peso_peixes - 50\n",
    "    multa = 4 * excesso\n",
    "print ('Excesso: {}, Multa: {}'.format(excesso, multa))"
   ]
  },
  {
   "cell_type": "markdown",
   "metadata": {},
   "source": [
    "8 Faça um Programa que pergunte quanto você ganha por hora e o número de horas\n",
    "trabalhadas no mês. Calcule e mostre o total do seu salário no referido mês,\n",
    "sabendo-se que são descontados 11% para o Imposto de Renda, 8% para o INSS e 5%\n",
    "para o sindicato, faça um programa que nos dê:\n",
    "- salário bruto.\n",
    "- quanto pagou ao INSS.\n",
    "- quanto pagou ao sindicato.\n",
    "- o salário líquido.\n",
    "- calcule os descontos e o salário líquido, conforme a tabela abaixo:\n",
    " + Salário Bruto : R$\n",
    " - IR (11%) : R$\n",
    " - INSS (8%) : R$\n",
    " - Sindicato ( 5%) : R$\n",
    " = Salário Liquido : R$\n",
    "Obs.: Salário Bruto - Descontos = Salário Líquido.\n"
   ]
  },
  {
   "cell_type": "code",
   "execution_count": 2,
   "metadata": {},
   "outputs": [
    {
     "name": "stdout",
     "output_type": "stream",
     "text": [
      "Digite o valor da hora: 10\n",
      "Digite as horas trabalhadas: 140\n",
      "\n",
      "Imposto de Renda: 154.00\n",
      "INSS: 112.00\n",
      "Sindicato: 70.00\n",
      "Salario Bruto: 1400.00. Salario liquido: 1064.00\n"
     ]
    }
   ],
   "source": [
    "valor = float(input(\"Digite o valor da hora: \"))\n",
    "hora = int(input(\"Digite as horas trabalhadas: \"))\n",
    "salario_bruto = float(valor * hora)\n",
    "\n",
    "imposto_renda = float(salario_bruto * 0.11)\n",
    "inss = float(salario_bruto * 0.08)\n",
    "sindicato = float(salario_bruto * 0.05)\n",
    "\n",
    "salario_liquido = float(salario_bruto - imposto_renda - inss - sindicato)\n",
    "\n",
    "print(f\"\\nImposto de Renda: {imposto_renda:.2f}\\nINSS: {inss:.2f}\\nSindicato: {sindicato:.2f}\")\n",
    "print(f\"Salario Bruto: {salario_bruto:.2f}. Salario liquido: {salario_liquido:.2f}\")"
   ]
  },
  {
   "cell_type": "markdown",
   "metadata": {},
   "source": [
    "9 Faça um programa que leia 2 strings e informe o conteúdo delas seguido do seu\n",
    "comprimento. Informe também se as duas strings possuem o mesmo comprimento e\n",
    "são iguais ou diferentes no conteúdo.\n",
    "Exemplo:\n",
    "String 1: Brasil Hexa 2018\n",
    "String 2: Brasil! Hexa 2018!\n",
    "Tamanho de \"Brasil Hexa 2018\": 16 caracteres\n",
    "Tamanho de \"Brasil! Hexa 2018!\": 18 caracteres\n",
    "As duas strings são de tamanhos diferentes.\n",
    "As duas strings possuem conteúdo diferente."
   ]
  },
  {
   "cell_type": "code",
   "execution_count": null,
   "metadata": {},
   "outputs": [],
   "source": [
    "string1 = str(input(\"Informe a primeira string\\t\"))\n",
    "string2 = str(input(\"Informe a segunda string\\t\"))\n",
    "\n",
    "\n",
    "print(\"String 1 {}\\nString 2 {}\".format(string1, string2))\n",
    "print(\"O tamanho de {} é {} caracteres\".format(string1, len(string1)))\n",
    "print(\"O tamanho de {} é {} caracteres\" .format(string2, len(string2)))\n",
    "\n",
    "\n",
    "if string1 == string2:\n",
    "    print(\"String 1 e String 2 são iguais\")\n",
    "else:\n",
    "    print(\"String 1 e String 2 são diferentes\")\n",
    "\n",
    "if len(string1) == len(string2):\n",
    "    print(\"String 1 e String 2 são de tamanhos iguais\")\n",
    "else:\n",
    "    print(\"String 1 e String 2 são de tamanhos diferentes\")"
   ]
  },
  {
   "cell_type": "markdown",
   "metadata": {},
   "source": [
    "10 Faça um programa que permita ao usuário digitar o seu nome e em seguida\n",
    "mostre o nome do usuário de trás para frente utilizando somente letras maiúsculas.\n",
    "Dica: lembre−se que ao informar o nome o usuário pode digitar letras maiúsculas ou\n",
    "minúsculas. Observação: não use loops."
   ]
  },
  {
   "cell_type": "code",
   "execution_count": null,
   "metadata": {},
   "outputs": [],
   "source": [
    "nome = str(input(\"informe seu nome(com letras maiusculas ou minusculas)\"))\n",
    "\n",
    "print(nome[::-1].upper())"
   ]
  },
  {
   "cell_type": "markdown",
   "metadata": {},
   "source": [
    "11 Faça um programa que solicite a data de nascimento (dd/mm/aaaa) do usuário e\n",
    "imprima a data com o nome do mês por extenso.\n",
    "Data de Nascimento: 29/10/1973\n",
    "Você nasceu em 29 de Outubro de 1973.\n",
    "Obs.: Não use desvio condicional nem loops.\n"
   ]
  },
  {
   "cell_type": "code",
   "execution_count": null,
   "metadata": {},
   "outputs": [],
   "source": [
    "dia = int(input(\"Dia de nascimento: \"))\n",
    "mes = int(input(\"Mes de nascimento: \"))\n",
    "ano = int(input(\"Ano de nascimento: \"))\n",
    "\n",
    "meses = [\"Janeiro\", \"Janeiro\", \"Fevereiro\", \"Março\", \"Abriu\", \"Maio\", \"Junho\",\n",
    "         \"Julho\", \"Agosto\", \"Setembro\", \"Outubro\", \"Novembro\", \"Dezembro\"]\n",
    "\n",
    "print(f\"\\nVocê nasceu em {dia} de {meses[mes]} de {ano}\")"
   ]
  },
  {
   "cell_type": "markdown",
   "metadata": {},
   "source": [
    "12 Leet é uma forma de se escrever o alfabeto latino usando outros símbolos em\n",
    "lugar das letras, como números por exemplo. A própria palavra leet admite muitas\n",
    "variações, como l33t ou 1337. O uso do leet reflete uma subcultura relacionada ao\n",
    "mundo dos jogos de computador e internet, sendo muito usada para confundir os\n",
    "iniciantes e afirmar-se como parte de um grupo. Pesquise sobre as principais formas\n",
    "de traduzir as letras. Depois, faça um programa que peça uma texto e transforme-o\n",
    "para a grafia leet speak.\n",
    "Desafio: não use loops nem desvios condicionais."
   ]
  },
  {
   "cell_type": "code",
   "execution_count": null,
   "metadata": {},
   "outputs": [],
   "source": [
    "def leet(text):\n",
    "    getchar = lambda c: chars[c] if c in chars else c\n",
    "    chars = {\"a\":\"4\",\"e\":\"3\",\"l\":\"1\",\"o\":\"0\",\"s\":\"5\"}\n",
    "    return ''.join(getchar(c) for c in text)\n",
    "texto = input(\"Digite algo: \")\n",
    "print(\"\\n\",leet(texto))"
   ]
  }
 ],
 "metadata": {
  "kernelspec": {
   "display_name": "Python 3",
   "language": "python",
   "name": "python3"
  },
  "language_info": {
   "codemirror_mode": {
    "name": "ipython",
    "version": 3
   },
   "file_extension": ".py",
   "mimetype": "text/x-python",
   "name": "python",
   "nbconvert_exporter": "python",
   "pygments_lexer": "ipython3",
   "version": "3.7.1"
  }
 },
 "nbformat": 4,
 "nbformat_minor": 2
}
